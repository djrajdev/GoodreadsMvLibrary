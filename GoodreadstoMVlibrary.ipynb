{
 "cells": [
  {
   "cell_type": "markdown",
   "metadata": {},
   "source": [
    "## Goodreads to MV library query\n",
    "@Author: DJ Rajdev  \n",
    "@LastUpdates: Aug 28, 2019  \n",
    "@Purpose: Query my to-read list on goodreads against available or on hold books at MV / palo alto library. Helps to figure out differnt login scenarios using `rvest` , try `selenium` if `rvest` doesn't work.  \n",
    "@Citations:  \n",
    "* [(R Vignette) SelectorGadget](https://cran.r-project.org/web/packages/rvest/vignettes/selectorgadget.html)  \n",
    "* [(StackOverflow) Scrolling page using selenium](https://stackoverflow.com/questions/31901072/scrolling-page-in-rselenium)\n",
    "\n",
    "<br/>\n",
    "\n",
    "### Prereq\n",
    "Using the chrome extension `selectorGadget` to figure out what to scrape. load the required libraries and record the versions in use."
   ]
  },
  {
   "cell_type": "code",
   "execution_count": 1,
   "metadata": {},
   "outputs": [
    {
     "name": "stderr",
     "output_type": "stream",
     "text": [
      "── \u001b[1mAttaching packages\u001b[22m ─────────────────────────────────────── tidyverse 1.2.1 ──\n",
      "\u001b[32m✔\u001b[39m \u001b[34mggplot2\u001b[39m 3.1.0     \u001b[32m✔\u001b[39m \u001b[34mpurrr  \u001b[39m 0.2.5\n",
      "\u001b[32m✔\u001b[39m \u001b[34mtibble \u001b[39m 1.4.2     \u001b[32m✔\u001b[39m \u001b[34mdplyr  \u001b[39m 0.7.8\n",
      "\u001b[32m✔\u001b[39m \u001b[34mtidyr  \u001b[39m 0.8.2     \u001b[32m✔\u001b[39m \u001b[34mstringr\u001b[39m 1.3.1\n",
      "\u001b[32m✔\u001b[39m \u001b[34mreadr  \u001b[39m 1.2.1     \u001b[32m✔\u001b[39m \u001b[34mforcats\u001b[39m 0.3.0\n",
      "── \u001b[1mConflicts\u001b[22m ────────────────────────────────────────── tidyverse_conflicts() ──\n",
      "\u001b[31m✖\u001b[39m \u001b[34mdplyr\u001b[39m::\u001b[32mfilter()\u001b[39m masks \u001b[34mstats\u001b[39m::filter()\n",
      "\u001b[31m✖\u001b[39m \u001b[34mdplyr\u001b[39m::\u001b[32mlag()\u001b[39m    masks \u001b[34mstats\u001b[39m::lag()\n",
      "Warning message:\n",
      "“package ‘rvest’ was built under R version 3.5.2”Loading required package: xml2\n",
      "Warning message:\n",
      "“package ‘xml2’ was built under R version 3.5.2”\n",
      "Attaching package: ‘rvest’\n",
      "\n",
      "The following object is masked from ‘package:purrr’:\n",
      "\n",
      "    pluck\n",
      "\n",
      "The following object is masked from ‘package:readr’:\n",
      "\n",
      "    guess_encoding\n",
      "\n",
      "\n",
      "Attaching package: ‘magrittr’\n",
      "\n",
      "The following object is masked from ‘package:purrr’:\n",
      "\n",
      "    set_names\n",
      "\n",
      "The following object is masked from ‘package:tidyr’:\n",
      "\n",
      "    extract\n",
      "\n",
      "Warning message:\n",
      "“package ‘RSelenium’ was built under R version 3.5.2”"
     ]
    }
   ],
   "source": [
    "library(tidyverse)\n",
    "library(rvest)\n",
    "library(magrittr)\n",
    "library(getPass)\n",
    "library(RSelenium) #from devtools install_github(\"hrbrmstr/decapitated\")"
   ]
  },
  {
   "cell_type": "code",
   "execution_count": 2,
   "metadata": {},
   "outputs": [
    {
     "data": {
      "text/html": [
       "<dl class=dl-horizontal>\n",
       "\t<dt>tidyverse</dt>\n",
       "\t\t<dd>'1.2.1'</dd>\n",
       "\t<dt>rvest</dt>\n",
       "\t\t<dd>'0.3.4'</dd>\n",
       "\t<dt>magrittr</dt>\n",
       "\t\t<dd>'1.5'</dd>\n",
       "\t<dt>getPass</dt>\n",
       "\t\t<dd>'0.2.2'</dd>\n",
       "\t<dt>RSelenium</dt>\n",
       "\t\t<dd>'1.7.5'</dd>\n",
       "</dl>\n"
      ],
      "text/latex": [
       "\\begin{description*}\n",
       "\\item[tidyverse] '1.2.1'\n",
       "\\item[rvest] '0.3.4'\n",
       "\\item[magrittr] '1.5'\n",
       "\\item[getPass] '0.2.2'\n",
       "\\item[RSelenium] '1.7.5'\n",
       "\\end{description*}\n"
      ],
      "text/markdown": [
       "tidyverse\n",
       ":   '1.2.1'rvest\n",
       ":   '0.3.4'magrittr\n",
       ":   '1.5'getPass\n",
       ":   '0.2.2'RSelenium\n",
       ":   '1.7.5'\n",
       "\n"
      ],
      "text/plain": [
       "tidyverse     rvest  magrittr   getPass RSelenium \n",
       "  \"1.2.1\"   \"0.3.4\"     \"1.5\"   \"0.2.2\"   \"1.7.5\" "
      ]
     },
     "metadata": {},
     "output_type": "display_data"
    }
   ],
   "source": [
    "sapply(c('tidyverse', 'rvest', 'magrittr', 'getPass', 'RSelenium'), function(x) {\n",
    "    toString(packageVersion(x))\n",
    "})"
   ]
  },
  {
   "cell_type": "markdown",
   "metadata": {},
   "source": [
    "### Let's try logging in\n",
    "<br/>\n",
    "\n",
    "#### Goodreads"
   ]
  },
  {
   "cell_type": "code",
   "execution_count": 3,
   "metadata": {},
   "outputs": [
    {
     "name": "stdout",
     "output_type": "stream",
     "text": [
      "<form> 'sign_in' (POST https://www.goodreads.com/user/sign_in)\n",
      "  <input hidden> 'utf8': ✓\n",
      "  <input hidden> 'authenticity_token': 9Q3cCXAcaKlEfgFP7WORFdVD99NnKP4Z+/7KOQgR5BT4exk6XXlRQVJNp0ZSVdOrask0IyjM8tXgqTMiqJe95g==\n",
      "  <input email> 'user[email]': \n",
      "  <input password> 'user[password]': \n",
      "  <input checkbox> 'remember_me': \n",
      "  <input submit> 'next': Sign in\n",
      "  <input hidden> 'n': 368231\n",
      "Goodreads email: ········\n",
      "Goodreads password:········\n"
     ]
    },
    {
     "name": "stderr",
     "output_type": "stream",
     "text": [
      "Submitting with 'next'\n"
     ]
    }
   ],
   "source": [
    "grLoginUrl  <- 'https://www.goodreads.com/user/sign_in'\n",
    "grsession  <- html_session(grLoginUrl)\n",
    "# html_form(read_html(grLoginUrl))     # figure out how many forms on page and what they contain\n",
    "getform  <- html_form(grsession)[[1]]\n",
    "print(getform)\n",
    "# you need the name of the element, not the tag\n",
    "fillform  <- getform  %>% set_values('user[email]'=getPass(\"Goodreads email: \"), 'user[password]'=getPass('Goodreads password:'))\n",
    "submitform  <- submit_form(grsession, fillform)\n"
   ]
  },
  {
   "cell_type": "code",
   "execution_count": 4,
   "metadata": {},
   "outputs": [
    {
     "name": "stdout",
     "output_type": "stream",
     "text": [
      "<session> https://www.goodreads.com/\n",
      "  Status: 200\n",
      "  Type:   text/html; charset=utf-8\n",
      "  Size:   197934\n"
     ]
    }
   ],
   "source": [
    "print(submitform)"
   ]
  },
  {
   "cell_type": "markdown",
   "metadata": {},
   "source": [
    "#### MV library login"
   ]
  },
  {
   "cell_type": "code",
   "execution_count": 5,
   "metadata": {},
   "outputs": [
    {
     "name": "stdout",
     "output_type": "stream",
     "text": [
      "MV library card number: ········\n",
      "MV library pin: ········\n"
     ]
    },
    {
     "name": "stderr",
     "output_type": "stream",
     "text": [
      "Submitting with 'NULL'\n"
     ]
    }
   ],
   "source": [
    "mvLoginUrl  <- 'https://library.mountainview.gov/iii/cas/login?'\n",
    "mvlsession  <- html_session(mvLoginUrl)\n",
    "#html_form(read_html(mvLoginUrl))     # figure out how many forms on page and what they contain\n",
    "getform  <- html_form(mvlsession)[[1]]\n",
    "fillform  <- getform  %>% set_values('code'=getPass(\"MV library card number: \"), 'pin'=getPass(\"MV library pin: \"))\n",
    "submitform  <- submit_form(mvlsession, fillform)"
   ]
  },
  {
   "cell_type": "code",
   "execution_count": 6,
   "metadata": {},
   "outputs": [
    {
     "name": "stdout",
     "output_type": "stream",
     "text": [
      "<session> https://library.mountainview.gov/iii/cas/login;jsessionid=7616D432A2A481A4FAC78F3BAE4C5B7B\n",
      "  Status: 200\n",
      "  Type:   text/html;charset=ISO-8859-1\n",
      "  Size:   1635\n"
     ]
    }
   ],
   "source": [
    "print(submitform)\n"
   ]
  },
  {
   "cell_type": "markdown",
   "metadata": {},
   "source": [
    "### Get to-read books from GR\n",
    "\n",
    "my user id and books data is public so all I need is the right userID number, making login obselete. But well, already figured it out so continuing with this approach."
   ]
  },
  {
   "cell_type": "code",
   "execution_count": 7,
   "metadata": {},
   "outputs": [
    {
     "data": {
      "text/html": [
       "30"
      ],
      "text/latex": [
       "30"
      ],
      "text/markdown": [
       "30"
      ],
      "text/plain": [
       "[1] 30"
      ]
     },
     "metadata": {},
     "output_type": "display_data"
    }
   ],
   "source": [
    "grToRead  <-  'https://www.goodreads.com/review/list/11651752-divyajyoti-rajdev?shelf=to-read'\n",
    "# parse html, get all nodes with <table> tags, parse table numbers given, fill missing cols with NA, returns list so get first element which is our data frame\n",
    "booksToRead  <- grToRead  %>% read_html  %>% html_nodes(\"table\")  %>% .[2]  %>% html_table(header=T, fill=T)  %>% .[[1]]\n",
    "booksToRead  %>% nrow"
   ]
  },
  {
   "cell_type": "markdown",
   "metadata": {},
   "source": [
    "whoops! goodreads has javascript infinite scrolling so I only get 30 rows of the most recent books I've added (darn!). Let's try `selenium` or `splashr` to mimic the browser JS behavior"
   ]
  },
  {
   "cell_type": "code",
   "execution_count": 8,
   "metadata": {
    "scrolled": true
   },
   "outputs": [
    {
     "name": "stderr",
     "output_type": "stream",
     "text": [
      "checking Selenium Server versions:\n",
      "BEGIN: PREDOWNLOAD\n",
      "BEGIN: DOWNLOAD\n",
      "BEGIN: POSTDOWNLOAD\n",
      "checking chromedriver versions:\n",
      "BEGIN: PREDOWNLOAD\n",
      "BEGIN: DOWNLOAD\n",
      "BEGIN: POSTDOWNLOAD\n",
      "checking geckodriver versions:\n",
      "BEGIN: PREDOWNLOAD\n",
      "BEGIN: DOWNLOAD\n",
      "BEGIN: POSTDOWNLOAD\n",
      "checking phantomjs versions:\n",
      "BEGIN: PREDOWNLOAD\n",
      "BEGIN: DOWNLOAD\n",
      "BEGIN: POSTDOWNLOAD\n"
     ]
    },
    {
     "name": "stdout",
     "output_type": "stream",
     "text": [
      "[1] \"Connecting to remote server\"\n",
      "$acceptInsecureCerts\n",
      "[1] FALSE\n",
      "\n",
      "$browserName\n",
      "[1] \"chrome\"\n",
      "\n",
      "$browserVersion\n",
      "[1] \"77.0.3865.42\"\n",
      "\n",
      "$chrome\n",
      "$chrome$chromedriverVersion\n",
      "[1] \"77.0.3865.40 (f484704e052e0b556f8030b65b953dce96503217-refs/branch-heads/3865@{#442})\"\n",
      "\n",
      "$chrome$userDataDir\n",
      "[1] \"/var/folders/s3/9b3wq3_n74n_74sl59hv_9vw0000gp/T/.com.google.Chrome.NArDct\"\n",
      "\n",
      "\n",
      "$`goog:chromeOptions`\n",
      "$`goog:chromeOptions`$debuggerAddress\n",
      "[1] \"localhost:56747\"\n",
      "\n",
      "\n",
      "$networkConnectionEnabled\n",
      "[1] FALSE\n",
      "\n",
      "$pageLoadStrategy\n",
      "[1] \"normal\"\n",
      "\n",
      "$platformName\n",
      "[1] \"mac os x\"\n",
      "\n",
      "$proxy\n",
      "named list()\n",
      "\n",
      "$setWindowRect\n",
      "[1] TRUE\n",
      "\n",
      "$strictFileInteractability\n",
      "[1] FALSE\n",
      "\n",
      "$timeouts\n",
      "$timeouts$implicit\n",
      "[1] 0\n",
      "\n",
      "$timeouts$pageLoad\n",
      "[1] 300000\n",
      "\n",
      "$timeouts$script\n",
      "[1] 30000\n",
      "\n",
      "\n",
      "$unhandledPromptBehavior\n",
      "[1] \"dismiss and notify\"\n",
      "\n",
      "$webdriver.remote.sessionid\n",
      "[1] \"5d572f3c308b72513c3bde6ccdd893f0\"\n",
      "\n",
      "$id\n",
      "[1] \"5d572f3c308b72513c3bde6ccdd893f0\"\n",
      "\n"
     ]
    }
   ],
   "source": [
    "# rDr[[\"server\"]]$stop()\n",
    "rDr <- rsDriver()\n",
    "remDr <- rDr[[\"client\"]]\n",
    "remDr$navigate(grToRead)"
   ]
  },
  {
   "cell_type": "markdown",
   "metadata": {},
   "source": [
    "Let's get how many times I need to scroll. For this on GR I extract how many books in my want-to-read shelf. I know it loads 30 at a time."
   ]
  },
  {
   "cell_type": "code",
   "execution_count": 9,
   "metadata": {},
   "outputs": [],
   "source": [
    "# go to url, parse html, get sher shelves, from list find want-to-read shelf, eliminate non numeric chars, div by 30\n",
    "tmp  <- grToRead  %>% read_html  %>% html_nodes(\"div.userShelf\")  %>% html_text(trim=T)\n",
    "nscroll = ceiling( as.integer( gsub(\"([^0-9.])\",\"\", tmp[grep('want to read',tmp, ignore.case = T)])) / 30)"
   ]
  },
  {
   "cell_type": "markdown",
   "metadata": {},
   "source": [
    "Okay so for following to work, the active window needs to be chrome. I might as well scroll down by hand *sigh*. (maybe I'm missing something?)\n",
    "\n",
    "TODO: figure out how to do this in headless mode."
   ]
  },
  {
   "cell_type": "code",
   "execution_count": 10,
   "metadata": {},
   "outputs": [],
   "source": [
    "for(i in 1:nscroll) {\n",
    "    webElem <- remDr$findElement(\"css\", \"body\")\n",
    "    webElem$sendKeysToElement(list(key = \"end\"))\n",
    "    Sys.sleep(2)\n",
    "}"
   ]
  },
  {
   "cell_type": "code",
   "execution_count": 11,
   "metadata": {},
   "outputs": [],
   "source": [
    "booksToRead  <- remDr$getPageSource()[[1]]  %>% read_html  %>% html_nodes(\"table\")  %>% .[2]  %>% html_table(header=T, fill=T)  %>% .[[1]]"
   ]
  },
  {
   "cell_type": "code",
   "execution_count": 12,
   "metadata": {},
   "outputs": [
    {
     "data": {
      "text/html": [
       "TRUE"
      ],
      "text/latex": [
       "TRUE"
      ],
      "text/markdown": [
       "TRUE"
      ],
      "text/plain": [
       "[1] TRUE"
      ]
     },
     "metadata": {},
     "output_type": "display_data"
    }
   ],
   "source": [
    "#close session , stop server\n",
    "rDr$server$stop()"
   ]
  },
  {
   "cell_type": "code",
   "execution_count": 13,
   "metadata": {},
   "outputs": [
    {
     "data": {
      "text/html": [
       "<ol class=list-inline>\n",
       "\t<li>''</li>\n",
       "\t<li>'#'</li>\n",
       "\t<li>'cover'</li>\n",
       "\t<li>'title'</li>\n",
       "\t<li>'author'</li>\n",
       "\t<li>'isbn'</li>\n",
       "\t<li>'isbn13'</li>\n",
       "\t<li>'asin'</li>\n",
       "\t<li>'pages'</li>\n",
       "\t<li>'rating'</li>\n",
       "\t<li>'ratings'</li>\n",
       "\t<li>'pub'</li>\n",
       "\t<li>'(ed.)'</li>\n",
       "\t<li>'rating'</li>\n",
       "\t<li>'my rating'</li>\n",
       "\t<li>'review'</li>\n",
       "\t<li>'notes'</li>\n",
       "\t<li>'recommender'</li>\n",
       "\t<li>'comments'</li>\n",
       "\t<li>'votes'</li>\n",
       "\t<li>'count'</li>\n",
       "\t<li>'started'</li>\n",
       "\t<li>'read'</li>\n",
       "\t<li>'added'</li>\n",
       "\t<li>'purchased'</li>\n",
       "\t<li>'owned'</li>\n",
       "\t<li>'location'</li>\n",
       "\t<li>'condition'</li>\n",
       "\t<li>'format'</li>\n",
       "\t<li>''</li>\n",
       "</ol>\n"
      ],
      "text/latex": [
       "\\begin{enumerate*}\n",
       "\\item ''\n",
       "\\item '\\#'\n",
       "\\item 'cover'\n",
       "\\item 'title'\n",
       "\\item 'author'\n",
       "\\item 'isbn'\n",
       "\\item 'isbn13'\n",
       "\\item 'asin'\n",
       "\\item 'pages'\n",
       "\\item 'rating'\n",
       "\\item 'ratings'\n",
       "\\item 'pub'\n",
       "\\item '(ed.)'\n",
       "\\item 'rating'\n",
       "\\item 'my rating'\n",
       "\\item 'review'\n",
       "\\item 'notes'\n",
       "\\item 'recommender'\n",
       "\\item 'comments'\n",
       "\\item 'votes'\n",
       "\\item 'count'\n",
       "\\item 'started'\n",
       "\\item 'read'\n",
       "\\item 'added'\n",
       "\\item 'purchased'\n",
       "\\item 'owned'\n",
       "\\item 'location'\n",
       "\\item 'condition'\n",
       "\\item 'format'\n",
       "\\item ''\n",
       "\\end{enumerate*}\n"
      ],
      "text/markdown": [
       "1. ''\n",
       "2. '#'\n",
       "3. 'cover'\n",
       "4. 'title'\n",
       "5. 'author'\n",
       "6. 'isbn'\n",
       "7. 'isbn13'\n",
       "8. 'asin'\n",
       "9. 'pages'\n",
       "10. 'rating'\n",
       "11. 'ratings'\n",
       "12. 'pub'\n",
       "13. '(ed.)'\n",
       "14. 'rating'\n",
       "15. 'my rating'\n",
       "16. 'review'\n",
       "17. 'notes'\n",
       "18. 'recommender'\n",
       "19. 'comments'\n",
       "20. 'votes'\n",
       "21. 'count'\n",
       "22. 'started'\n",
       "23. 'read'\n",
       "24. 'added'\n",
       "25. 'purchased'\n",
       "26. 'owned'\n",
       "27. 'location'\n",
       "28. 'condition'\n",
       "29. 'format'\n",
       "30. ''\n",
       "\n",
       "\n"
      ],
      "text/plain": [
       " [1] \"\"            \"#\"           \"cover\"       \"title\"       \"author\"     \n",
       " [6] \"isbn\"        \"isbn13\"      \"asin\"        \"pages\"       \"rating\"     \n",
       "[11] \"ratings\"     \"pub\"         \"(ed.)\"       \"rating\"      \"my rating\"  \n",
       "[16] \"review\"      \"notes\"       \"recommender\" \"comments\"    \"votes\"      \n",
       "[21] \"count\"       \"started\"     \"read\"        \"added\"       \"purchased\"  \n",
       "[26] \"owned\"       \"location\"    \"condition\"   \"format\"      \"\"           "
      ]
     },
     "metadata": {},
     "output_type": "display_data"
    }
   ],
   "source": [
    "booksToRead  %>% names"
   ]
  },
  {
   "cell_type": "markdown",
   "metadata": {},
   "source": [
    "Geez, duplicated names. Can't move forward until I fix that"
   ]
  },
  {
   "cell_type": "code",
   "execution_count": 14,
   "metadata": {},
   "outputs": [
    {
     "name": "stdout",
     "output_type": "stream",
     "text": [
      " [1] \"unknown1\"    \"#\"           \"cover\"       \"title\"       \"author\"     \n",
      " [6] \"isbn\"        \"isbn13\"      \"asin\"        \"pages\"       \"rating\"     \n",
      "[11] \"ratings\"     \"pub\"         \"(ed.)\"       \"rating2\"     \"my rating\"  \n",
      "[16] \"review\"      \"notes\"       \"recommender\" \"comments\"    \"votes\"      \n",
      "[21] \"count\"       \"started\"     \"read\"        \"added\"       \"purchased\"  \n",
      "[26] \"owned\"       \"location\"    \"condition\"   \"format\"      \"unknown2\"   \n"
     ]
    }
   ],
   "source": [
    "newnames  <-c('unknown1','#','cover','title', 'author', 'isbn', 'isbn13', 'asin', 'pages', 'rating', 'ratings', 'pub', '(ed.)', 'rating2', 'my rating', \n",
    "              'review', 'notes','recommender', 'comments', 'votes', 'count', 'started', 'read', 'added', 'purchased', 'owned',\n",
    "              'location', 'condition', 'format', 'unknown2')\n",
    "print(newnames)\n",
    "colnames(booksToRead)  <- newnames"
   ]
  },
  {
   "cell_type": "code",
   "execution_count": 15,
   "metadata": {},
   "outputs": [],
   "source": [
    "booksToRead  %<>% select(author, title, isbn, isbn13, avgrating=rating, numratings=ratings)  "
   ]
  },
  {
   "cell_type": "code",
   "execution_count": 16,
   "metadata": {},
   "outputs": [
    {
     "data": {
      "text/html": [
       "<table>\n",
       "<caption>A data.frame: 6 × 6</caption>\n",
       "<thead>\n",
       "\t<tr><th scope=col>author</th><th scope=col>title</th><th scope=col>isbn</th><th scope=col>isbn13</th><th scope=col>avgrating</th><th scope=col>numratings</th></tr>\n",
       "\t<tr><th scope=col>&lt;chr&gt;</th><th scope=col>&lt;chr&gt;</th><th scope=col>&lt;chr&gt;</th><th scope=col>&lt;chr&gt;</th><th scope=col>&lt;chr&gt;</th><th scope=col>&lt;chr&gt;</th></tr>\n",
       "</thead>\n",
       "<tbody>\n",
       "\t<tr><td>author      Mitnick, Kevin D.  </td><td>title    \n",
       "      Ghost in the Wires: My Adventures as the World's Most Wanted Hacker           </td><td>isbn    0316037702</td><td>isbn13    9780316037709</td><td>avg rating    3.97</td><td>num ratings    18,381</td></tr>\n",
       "\t<tr><td>author      Montell, Amanda    </td><td>title    \n",
       "      Wordslut: A Feminist Guide to Taking Back the English Language                </td><td>isbn    006286887X</td><td>isbn13    9780062868879</td><td>avg rating    4.44</td><td>num ratings    363   </td></tr>\n",
       "\t<tr><td><span style=white-space:pre-wrap>author      Law, Averill M.    </span></td><td><span style=white-space:pre-wrap>title    \n",
       "      Simulation Modeling &amp; Analysis                                                </span></td><td><span style=white-space:pre-wrap>isbn    0070366985</span></td><td><span style=white-space:pre-wrap>isbn13    9780070366985</span></td><td><span style=white-space:pre-wrap>avg rating    3.81</span></td><td><span style=white-space:pre-wrap>num ratings    117   </span></td></tr>\n",
       "\t<tr><td>author      Altshuller, Genrich</td><td>title    \n",
       "      The Innovation Algorithm: Triz, Systematic Innovation and Technical Creativity</td><td>isbn    0964074044</td><td>isbn13    9780964074040</td><td>avg rating    4.01</td><td>num ratings    136   </td></tr>\n",
       "\t<tr><td>author      Bartle, Robert G.  </td><td>title    \n",
       "      Introduction to Real Analysis                                                 </td><td>isbn    0471321486</td><td>isbn13    9780471321484</td><td>avg rating    3.95</td><td>num ratings    221   </td></tr>\n",
       "\t<tr><td>author      Casella, George    </td><td>title    \n",
       "      Statistical Inference                                                         </td><td>isbn    0534243126</td><td>isbn13    9780534243128</td><td>avg rating    4.09</td><td>num ratings    260   </td></tr>\n",
       "</tbody>\n",
       "</table>\n"
      ],
      "text/latex": [
       "A data.frame: 6 × 6\n",
       "\\begin{tabular}{r|llllll}\n",
       " author & title & isbn & isbn13 & avgrating & numratings\\\\\n",
       " <chr> & <chr> & <chr> & <chr> & <chr> & <chr>\\\\\n",
       "\\hline\n",
       "\t author      Mitnick, Kevin D.   & title    \n",
       "      Ghost in the Wires: My Adventures as the World's Most Wanted Hacker            & isbn    0316037702 & isbn13    9780316037709 & avg rating    3.97 & num ratings    18,381\\\\\n",
       "\t author      Montell, Amanda     & title    \n",
       "      Wordslut: A Feminist Guide to Taking Back the English Language                 & isbn    006286887X & isbn13    9780062868879 & avg rating    4.44 & num ratings    363   \\\\\n",
       "\t author      Law, Averill M.     & title    \n",
       "      Simulation Modeling \\& Analysis                                                 & isbn    0070366985 & isbn13    9780070366985 & avg rating    3.81 & num ratings    117   \\\\\n",
       "\t author      Altshuller, Genrich & title    \n",
       "      The Innovation Algorithm: Triz, Systematic Innovation and Technical Creativity & isbn    0964074044 & isbn13    9780964074040 & avg rating    4.01 & num ratings    136   \\\\\n",
       "\t author      Bartle, Robert G.   & title    \n",
       "      Introduction to Real Analysis                                                  & isbn    0471321486 & isbn13    9780471321484 & avg rating    3.95 & num ratings    221   \\\\\n",
       "\t author      Casella, George     & title    \n",
       "      Statistical Inference                                                          & isbn    0534243126 & isbn13    9780534243128 & avg rating    4.09 & num ratings    260   \\\\\n",
       "\\end{tabular}\n"
      ],
      "text/markdown": [
       "\n",
       "A data.frame: 6 × 6\n",
       "\n",
       "| author &lt;chr&gt; | title &lt;chr&gt; | isbn &lt;chr&gt; | isbn13 &lt;chr&gt; | avgrating &lt;chr&gt; | numratings &lt;chr&gt; |\n",
       "|---|---|---|---|---|---|\n",
       "| author      Mitnick, Kevin D.   | title    \n",
       "      Ghost in the Wires: My Adventures as the World's Most Wanted Hacker            | isbn    0316037702 | isbn13    9780316037709 | avg rating    3.97 | num ratings    18,381 |\n",
       "| author      Montell, Amanda     | title    \n",
       "      Wordslut: A Feminist Guide to Taking Back the English Language                 | isbn    006286887X | isbn13    9780062868879 | avg rating    4.44 | num ratings    363    |\n",
       "| author      Law, Averill M.     | title    \n",
       "      Simulation Modeling &amp; Analysis                                                 | isbn    0070366985 | isbn13    9780070366985 | avg rating    3.81 | num ratings    117    |\n",
       "| author      Altshuller, Genrich | title    \n",
       "      The Innovation Algorithm: Triz, Systematic Innovation and Technical Creativity | isbn    0964074044 | isbn13    9780964074040 | avg rating    4.01 | num ratings    136    |\n",
       "| author      Bartle, Robert G.   | title    \n",
       "      Introduction to Real Analysis                                                  | isbn    0471321486 | isbn13    9780471321484 | avg rating    3.95 | num ratings    221    |\n",
       "| author      Casella, George     | title    \n",
       "      Statistical Inference                                                          | isbn    0534243126 | isbn13    9780534243128 | avg rating    4.09 | num ratings    260    |\n",
       "\n"
      ],
      "text/plain": [
       "  author                         \n",
       "1 author      Mitnick, Kevin D.  \n",
       "2 author      Montell, Amanda    \n",
       "3 author      Law, Averill M.    \n",
       "4 author      Altshuller, Genrich\n",
       "5 author      Bartle, Robert G.  \n",
       "6 author      Casella, George    \n",
       "  title                                                                                          \n",
       "1 title    \\n      Ghost in the Wires: My Adventures as the World's Most Wanted Hacker           \n",
       "2 title    \\n      Wordslut: A Feminist Guide to Taking Back the English Language                \n",
       "3 title    \\n      Simulation Modeling & Analysis                                                \n",
       "4 title    \\n      The Innovation Algorithm: Triz, Systematic Innovation and Technical Creativity\n",
       "5 title    \\n      Introduction to Real Analysis                                                 \n",
       "6 title    \\n      Statistical Inference                                                         \n",
       "  isbn               isbn13                  avgrating         \n",
       "1 isbn    0316037702 isbn13    9780316037709 avg rating    3.97\n",
       "2 isbn    006286887X isbn13    9780062868879 avg rating    4.44\n",
       "3 isbn    0070366985 isbn13    9780070366985 avg rating    3.81\n",
       "4 isbn    0964074044 isbn13    9780964074040 avg rating    4.01\n",
       "5 isbn    0471321486 isbn13    9780471321484 avg rating    3.95\n",
       "6 isbn    0534243126 isbn13    9780534243128 avg rating    4.09\n",
       "  numratings           \n",
       "1 num ratings    18,381\n",
       "2 num ratings    363   \n",
       "3 num ratings    117   \n",
       "4 num ratings    136   \n",
       "5 num ratings    221   \n",
       "6 num ratings    260   "
      ]
     },
     "metadata": {},
     "output_type": "display_data"
    }
   ],
   "source": [
    "booksToRead  %>% head()"
   ]
  },
  {
   "cell_type": "markdown",
   "metadata": {},
   "source": [
    "#### Let's clean\n",
    "remove any non numeric chars from isbn, isbn13, numratings  \n",
    "remove non numeric except \".\" from avgrating  \n",
    "remove \"author \" from author  \n",
    "split \"author\" to firstname, last name  \n",
    "remove \"title \" from title  \n",
    "<br />\n",
    "removing books reviewed by less than 50 people (I dont want to read esocteric books / fall prey to early biased reviewers like friends and family of author)  \n",
    "arrange by descending average rating  "
   ]
  },
  {
   "cell_type": "code",
   "execution_count": 17,
   "metadata": {},
   "outputs": [
    {
     "name": "stderr",
     "output_type": "stream",
     "text": [
      "Warning message:\n",
      "“The `printer` argument is deprecated as of rlang 0.3.0.\n",
      "\u001b[90mThis warning is displayed once per session.\u001b[39m”Warning message:\n",
      "“Expected 2 pieces. Missing pieces filled with `NA` in 1 rows [294].”"
     ]
    }
   ],
   "source": [
    "booksToRead  %<>% mutate(\n",
    "    title = trimws(gsub(pattern = '^title', '', title)),\n",
    "    author = trimws(gsub(pattern= '^author', '', author)),\n",
    "    isbn = trimws(gsub(pattern='^isbn', '', isbn)),\n",
    "    isbn13 = as.numeric(trimws(gsub(pattern= '^isbn13', '', isbn13))),\n",
    "    numratings = as.integer(gsub(\"([^0-9.])\",\"\", numratings)),\n",
    "    avgrating = as.numeric(gsub(\"([^0-9.^\\\\..])\",\"\", avgrating))\n",
    ")    %>% separate(author, c(\"lastname\", \"firstname\"), sep = \", \", remove=FALSE) %>% \n",
    "mutate(firstname = trimws(gsub(pattern=\"\\\\*\", \"\", x=firstname)),\n",
    "      author_clean = trimws(paste(firstname, lastname, sep=\" \"))) %>% \n",
    "filter(numratings > 50)  %>% arrange(desc(avgrating))  %>% select(-author)"
   ]
  },
  {
   "cell_type": "code",
   "execution_count": 18,
   "metadata": {},
   "outputs": [
    {
     "data": {
      "text/html": [
       "<table>\n",
       "<caption>A data.frame: 6 × 8</caption>\n",
       "<thead>\n",
       "\t<tr><th scope=col>lastname</th><th scope=col>firstname</th><th scope=col>title</th><th scope=col>isbn</th><th scope=col>isbn13</th><th scope=col>avgrating</th><th scope=col>numratings</th><th scope=col>author_clean</th></tr>\n",
       "\t<tr><th scope=col>&lt;chr&gt;</th><th scope=col>&lt;chr&gt;</th><th scope=col>&lt;chr&gt;</th><th scope=col>&lt;chr&gt;</th><th scope=col>&lt;dbl&gt;</th><th scope=col>&lt;dbl&gt;</th><th scope=col>&lt;int&gt;</th><th scope=col>&lt;chr&gt;</th></tr>\n",
       "</thead>\n",
       "<tbody>\n",
       "\t<tr><td>McElreath</td><td>Richard </td><td>Statistical Rethinking: A Bayesian Course with Examples in R and Stan                                                                  </td><td>1482253445</td><td>9.781482e+12</td><td>4.71</td><td>  148</td><td>Richard McElreath </td></tr>\n",
       "\t<tr><td>Hansen   </td><td>Brant   </td><td>Blessed Are the Misfits: Great News for Believers who are Introverts, Spiritual Strugglers, or Just Feel Like They're Missing Something</td><td>0718096312</td><td>9.780718e+12</td><td>4.62</td><td>  881</td><td>Brant Hansen      </td></tr>\n",
       "\t<tr><td>Wickham  </td><td>Hadley  </td><td>Advanced R                                                                                                                             </td><td>1466586966</td><td>9.781467e+12</td><td>4.62</td><td>  186</td><td>Hadley Wickham    </td></tr>\n",
       "\t<tr><td>James    </td><td>Gareth  </td><td>An Introduction to Statistical Learning: With Applications in R                                                                        </td><td>1461471370</td><td>9.781461e+12</td><td>4.61</td><td> 1082</td><td>Gareth James      </td></tr>\n",
       "\t<tr><td>Alexander</td><td>Michelle</td><td>The New Jim Crow: Mass Incarceration in the Age of Colorblindness                                                                      </td><td>1595581030</td><td>9.781596e+12</td><td>4.51</td><td>42742</td><td>Michelle Alexander</td></tr>\n",
       "\t<tr><td>López-Alt</td><td>J. Kenji</td><td>The Food Lab: Better Home Cooking Through Science                                                                                      </td><td>0393081087</td><td>9.780393e+12</td><td>4.50</td><td> 6938</td><td>J. Kenji López-Alt</td></tr>\n",
       "</tbody>\n",
       "</table>\n"
      ],
      "text/latex": [
       "A data.frame: 6 × 8\n",
       "\\begin{tabular}{r|llllllll}\n",
       " lastname & firstname & title & isbn & isbn13 & avgrating & numratings & author\\_clean\\\\\n",
       " <chr> & <chr> & <chr> & <chr> & <dbl> & <dbl> & <int> & <chr>\\\\\n",
       "\\hline\n",
       "\t McElreath & Richard  & Statistical Rethinking: A Bayesian Course with Examples in R and Stan                                                                   & 1482253445 & 9.781482e+12 & 4.71 &   148 & Richard McElreath \\\\\n",
       "\t Hansen    & Brant    & Blessed Are the Misfits: Great News for Believers who are Introverts, Spiritual Strugglers, or Just Feel Like They're Missing Something & 0718096312 & 9.780718e+12 & 4.62 &   881 & Brant Hansen      \\\\\n",
       "\t Wickham   & Hadley   & Advanced R                                                                                                                              & 1466586966 & 9.781467e+12 & 4.62 &   186 & Hadley Wickham    \\\\\n",
       "\t James     & Gareth   & An Introduction to Statistical Learning: With Applications in R                                                                         & 1461471370 & 9.781461e+12 & 4.61 &  1082 & Gareth James      \\\\\n",
       "\t Alexander & Michelle & The New Jim Crow: Mass Incarceration in the Age of Colorblindness                                                                       & 1595581030 & 9.781596e+12 & 4.51 & 42742 & Michelle Alexander\\\\\n",
       "\t López-Alt & J. Kenji & The Food Lab: Better Home Cooking Through Science                                                                                       & 0393081087 & 9.780393e+12 & 4.50 &  6938 & J. Kenji López-Alt\\\\\n",
       "\\end{tabular}\n"
      ],
      "text/markdown": [
       "\n",
       "A data.frame: 6 × 8\n",
       "\n",
       "| lastname &lt;chr&gt; | firstname &lt;chr&gt; | title &lt;chr&gt; | isbn &lt;chr&gt; | isbn13 &lt;dbl&gt; | avgrating &lt;dbl&gt; | numratings &lt;int&gt; | author_clean &lt;chr&gt; |\n",
       "|---|---|---|---|---|---|---|---|\n",
       "| McElreath | Richard  | Statistical Rethinking: A Bayesian Course with Examples in R and Stan                                                                   | 1482253445 | 9.781482e+12 | 4.71 |   148 | Richard McElreath  |\n",
       "| Hansen    | Brant    | Blessed Are the Misfits: Great News for Believers who are Introverts, Spiritual Strugglers, or Just Feel Like They're Missing Something | 0718096312 | 9.780718e+12 | 4.62 |   881 | Brant Hansen       |\n",
       "| Wickham   | Hadley   | Advanced R                                                                                                                              | 1466586966 | 9.781467e+12 | 4.62 |   186 | Hadley Wickham     |\n",
       "| James     | Gareth   | An Introduction to Statistical Learning: With Applications in R                                                                         | 1461471370 | 9.781461e+12 | 4.61 |  1082 | Gareth James       |\n",
       "| Alexander | Michelle | The New Jim Crow: Mass Incarceration in the Age of Colorblindness                                                                       | 1595581030 | 9.781596e+12 | 4.51 | 42742 | Michelle Alexander |\n",
       "| López-Alt | J. Kenji | The Food Lab: Better Home Cooking Through Science                                                                                       | 0393081087 | 9.780393e+12 | 4.50 |  6938 | J. Kenji López-Alt |\n",
       "\n"
      ],
      "text/plain": [
       "  lastname  firstname\n",
       "1 McElreath Richard  \n",
       "2 Hansen    Brant    \n",
       "3 Wickham   Hadley   \n",
       "4 James     Gareth   \n",
       "5 Alexander Michelle \n",
       "6 López-Alt J. Kenji \n",
       "  title                                                                                                                                  \n",
       "1 Statistical Rethinking: A Bayesian Course with Examples in R and Stan                                                                  \n",
       "2 Blessed Are the Misfits: Great News for Believers who are Introverts, Spiritual Strugglers, or Just Feel Like They're Missing Something\n",
       "3 Advanced R                                                                                                                             \n",
       "4 An Introduction to Statistical Learning: With Applications in R                                                                        \n",
       "5 The New Jim Crow: Mass Incarceration in the Age of Colorblindness                                                                      \n",
       "6 The Food Lab: Better Home Cooking Through Science                                                                                      \n",
       "  isbn       isbn13       avgrating numratings author_clean      \n",
       "1 1482253445 9.781482e+12 4.71        148      Richard McElreath \n",
       "2 0718096312 9.780718e+12 4.62        881      Brant Hansen      \n",
       "3 1466586966 9.781467e+12 4.62        186      Hadley Wickham    \n",
       "4 1461471370 9.781461e+12 4.61       1082      Gareth James      \n",
       "5 1595581030 9.781596e+12 4.51      42742      Michelle Alexander\n",
       "6 0393081087 9.780393e+12 4.50       6938      J. Kenji López-Alt"
      ]
     },
     "metadata": {},
     "output_type": "display_data"
    }
   ],
   "source": [
    "booksToRead  %>% head"
   ]
  },
  {
   "cell_type": "markdown",
   "metadata": {},
   "source": [
    "### Cross reference available or onhold books at MV library\n",
    "<br />\n",
    "For everybook in my to-read list see if there's a match at the library. Sometimes books can have multiple matches (ebook vs offline). For these matches ensure it's the correct book (title match, author match) and return the set of found / not found books.<br>\n",
    "There's also an interesting behavior to exploit here, if the book is not found there's a \"tryAgainMessage\" `div` tag that gets added. So I'm going to simply look for that and if I find it, I'll move to the next book.<br>\n",
    "Multiple versions of the book in different formats or editions might come up since I'm searching by title not 13digit ISBN. I could use ISBN but then I don't get audiobooks <br>\n",
    "I tried to scrape the availability for each book but the html tag isn't clean so returns blanks. <br> <br>\n",
    "Lastly, MV library session times out if I don't run the script long enough, so building in a check for that"
   ]
  },
  {
   "cell_type": "markdown",
   "metadata": {},
   "source": [
    "#### Check if session active"
   ]
  },
  {
   "cell_type": "code",
   "execution_count": 19,
   "metadata": {},
   "outputs": [
    {
     "name": "stderr",
     "output_type": "stream",
     "text": [
      "Submitting with 'NULL'\n"
     ]
    }
   ],
   "source": [
    "catalogUrl  <- 'https://www.mountainview.gov/depts/library/default.asp'\n",
    "catalogForm  <- mvlsession  %>% jump_to(catalogUrl)  %>% read_html()  %>% html_form  %>% .[[3]]\n",
    "tget = 'wuthering heights'\n",
    "searchResult  <- mvlsession  %>% submit_form(catalogForm  %>% set_values('target'= tget))\n",
    "if(searchResult$response$status != 200){\n",
    "    print(\"there's an error!!\")\n",
    "}else{\n",
    "    parsed  <- searchResult  %>% read_html  \n",
    "    notFound  <- grepl(pattern='tryAgainMessage', x=(parsed  %>% html_node(\"body\")  %>% as.character))\n",
    "    emptySet  <- length(parsed  %>% html_nodes(\".title a\")) == 0\n",
    "    if(!notFound & emptySet) print(\"Refresh session\")\n",
    "}"
   ]
  },
  {
   "cell_type": "markdown",
   "metadata": {},
   "source": [
    "#### Find Matches"
   ]
  },
  {
   "cell_type": "code",
   "execution_count": 20,
   "metadata": {},
   "outputs": [],
   "source": [
    "booksFound  <- booksToRead[0,]\n",
    "booksNotFound  <- booksToRead  %>% mutate(foundTitle = NA, foundAuthor = NA, mediaType=NA)  %>% .[0,]\n",
    "#print(booksNotFound)"
   ]
  },
  {
   "cell_type": "code",
   "execution_count": 21,
   "metadata": {},
   "outputs": [
    {
     "data": {
      "text/html": [
       "<span style=white-space:pre-wrap>'\\ntget = NA\\nsearchResult  &lt;- mvlsession  %&gt;% submit_form(catalogForm  %&gt;% set_values(\\'target\\'= tget))\\nparsed  &lt;- searchResult  %&gt;% read_html   %&gt;% html_node(\\'body\\')  %&gt;% as.character \\ngrepl(pattern=\\'You must enter a value for Search\\', x=parsed, ignore.case = T)\\n'</span>"
      ],
      "text/latex": [
       "'\\textbackslash{}ntget = NA\\textbackslash{}nsearchResult  <- mvlsession  \\%>\\% submit\\_form(catalogForm  \\%>\\% set\\_values(\\textbackslash{}'target\\textbackslash{}'= tget))\\textbackslash{}nparsed  <- searchResult  \\%>\\% read\\_html   \\%>\\% html\\_node(\\textbackslash{}'body\\textbackslash{}')  \\%>\\% as.character \\textbackslash{}ngrepl(pattern=\\textbackslash{}'You must enter a value for Search\\textbackslash{}', x=parsed, ignore.case = T)\\textbackslash{}n'"
      ],
      "text/markdown": [
       "<span style=white-space:pre-wrap>'\\ntget = NA\\nsearchResult  &lt;- mvlsession  %&gt;% submit_form(catalogForm  %&gt;% set_values(\\'target\\'= tget))\\nparsed  &lt;- searchResult  %&gt;% read_html   %&gt;% html_node(\\'body\\')  %&gt;% as.character \\ngrepl(pattern=\\'You must enter a value for Search\\', x=parsed, ignore.case = T)\\n'</span>"
      ],
      "text/plain": [
       "[1] \"\\ntget = NA\\nsearchResult  <- mvlsession  %>% submit_form(catalogForm  %>% set_values('target'= tget))\\nparsed  <- searchResult  %>% read_html   %>% html_node('body')  %>% as.character \\ngrepl(pattern='You must enter a value for Search', x=parsed, ignore.case = T)\\n\""
      ]
     },
     "metadata": {},
     "output_type": "display_data"
    }
   ],
   "source": [
    "#never runs, just incase I need to check for blank fields\n",
    "\"\n",
    "tget = NA\n",
    "searchResult  <- mvlsession  %>% submit_form(catalogForm  %>% set_values('target'= tget))\n",
    "parsed  <- searchResult  %>% read_html   %>% html_node('body')  %>% as.character \n",
    "grepl(pattern='You must enter a value for Search', x=parsed, ignore.case = T)\n",
    "\""
   ]
  },
  {
   "cell_type": "code",
   "execution_count": 25,
   "metadata": {},
   "outputs": [],
   "source": [
    "#for(ind in 1:5) { #test only\n",
    "for(ind in 1:nrow(booksToRead)) {\n",
    "    currBook  <- booksToRead[ind,]\n",
    "    \n",
    "    #some titles have captions separated by \":\", ignoring those\n",
    "    cleantitle  <- unlist(strsplit(x=currBook$title, split=\":\"))[1]\n",
    "    \n",
    "    #error treated as book not found\n",
    "    suppressMessages(searchResult  <- mvlsession  %>% submit_form(catalogForm  %>% set_values('target'= cleantitle)))\n",
    "    parsed  <- searchResult  %>% read_html  \n",
    "    notFound  <- grepl(pattern='tryAgainMessage', x=(parsed  %>% html_node(\"body\")  %>% as.character))\n",
    "    if(searchResult$response$status != 200 | notFound){\n",
    "        booksNotFound  %<>% bind_rows(currBook)\n",
    "    }else{\n",
    "        parsed_titles  <- parsed  %>% html_nodes(\".title a\") %>%  html_text %>% as.character  %>% trimws() \n",
    "        parsed_authors  <- parsed  %>% html_nodes(\".customSecondaryText\")  %>%  html_text %>% as.character  %>% trimws() \n",
    "        parsed_authors  <- gsub(pattern=\"\\\\/ \", \"\",x= parsed_authors)\n",
    "        parsed_types  <- parsed  %>% html_nodes(\".itemMediaDescription\")  %>%  html_text %>% as.character  %>% trimws() \n",
    "        #parsed_availability  <- searchResult  %>% read_html  %>% html_nodes(\".availabilityMessage span:nth-child(1)\")  %>%  html_text %>% as.character  %>% trimws() \n",
    "        \n",
    "        #so my matching criteria can prolly be better but I'll just check for title match and author last name\n",
    "        authorMatchInd  <- grep(pattern=currBook$lastname[1],x=parsed_authors, ignore.case = T)\n",
    "        titleMatchInd  <- grep(pattern=cleantitle,x=parsed_titles, ignore.case = T)\n",
    "        matched  <- which(authorMatchInd %in% titleMatchInd)\n",
    "        \n",
    "        #bunch of results but none what we want\n",
    "        if(length(matched)==0){\n",
    "            booksNotFound  %<>% bind_rows( currBook)\n",
    "        }else{\n",
    "            foundMatches  <- data.frame(foundTitle = parsed_titles[matched], \n",
    "                                       foundAuthor = parsed_authors[matched],\n",
    "                                       mediaType = parsed_types[matched],\n",
    "                                        stringsAsFactors=F\n",
    "                                       )\n",
    "            tmpdf  <- currBook[0,]\n",
    "            \n",
    "            #not proud of the following, I'm sure purrr has an easier way for this\n",
    "            for(ind2 in 1:length(matched)){\n",
    "                tmpdf %<>% bind_rows(currBook  %>%  \n",
    "                                     mutate(foundTitle=foundMatches[ind2,'foundTitle'],\n",
    "                                            foundAuthor=foundMatches[ind2,'foundAuthor'],\n",
    "                                            mediaType=foundMatches[ind2,'mediaType']\n",
    "                                           )\n",
    "                                    )\n",
    "            }\n",
    "            booksFound  %<>% bind_rows(tmpdf)\n",
    "        }\n",
    "    }\n",
    "}\n",
    "\n",
    "#I want to clean results a little\n",
    "booksNotFound  %<>% select(c(title, isbn13, numratings, avgrating, author_clean))  %>% unique\n",
    "booksFound  %<>% select(-c(firstname, lastname, isbn))  %>% unique"
   ]
  },
  {
   "cell_type": "markdown",
   "metadata": {},
   "source": [
    "I'm interested in very specific mediaTypes (Audiobooks, Books). So filtering in my view, but the csv file still has this info."
   ]
  },
  {
   "cell_type": "code",
   "execution_count": 26,
   "metadata": {},
   "outputs": [
    {
     "data": {
      "text/html": [
       "<ol class=list-inline>\n",
       "\t<li>'Downloadable Audiobook'</li>\n",
       "\t<li>'Adult Non-Fiction Book'</li>\n",
       "\t<li>'Ebook: Downloadable'</li>\n",
       "\t<li>'Adult Fiction Book'</li>\n",
       "\t<li>'Adult Large Type'</li>\n",
       "\t<li>'Audiobook'</li>\n",
       "\t<li>'On Order Book'</li>\n",
       "\t<li>'DVD'</li>\n",
       "\t<li>'Children\\'s Picture Book'</li>\n",
       "\t<li>'Downloadable Music'</li>\n",
       "\t<li>'Children\\'s Book'</li>\n",
       "\t<li>'Teen Book'</li>\n",
       "\t<li>'Downloadable Video'</li>\n",
       "\t<li>'Music CD'</li>\n",
       "\t<li>'Adult Foreign Lang Book'</li>\n",
       "\t<li>'Children\\'s Board Book'</li>\n",
       "</ol>\n"
      ],
      "text/latex": [
       "\\begin{enumerate*}\n",
       "\\item 'Downloadable Audiobook'\n",
       "\\item 'Adult Non-Fiction Book'\n",
       "\\item 'Ebook: Downloadable'\n",
       "\\item 'Adult Fiction Book'\n",
       "\\item 'Adult Large Type'\n",
       "\\item 'Audiobook'\n",
       "\\item 'On Order Book'\n",
       "\\item 'DVD'\n",
       "\\item 'Children\\textbackslash{}'s Picture Book'\n",
       "\\item 'Downloadable Music'\n",
       "\\item 'Children\\textbackslash{}'s Book'\n",
       "\\item 'Teen Book'\n",
       "\\item 'Downloadable Video'\n",
       "\\item 'Music CD'\n",
       "\\item 'Adult Foreign Lang Book'\n",
       "\\item 'Children\\textbackslash{}'s Board Book'\n",
       "\\end{enumerate*}\n"
      ],
      "text/markdown": [
       "1. 'Downloadable Audiobook'\n",
       "2. 'Adult Non-Fiction Book'\n",
       "3. 'Ebook: Downloadable'\n",
       "4. 'Adult Fiction Book'\n",
       "5. 'Adult Large Type'\n",
       "6. 'Audiobook'\n",
       "7. 'On Order Book'\n",
       "8. 'DVD'\n",
       "9. 'Children\\'s Picture Book'\n",
       "10. 'Downloadable Music'\n",
       "11. 'Children\\'s Book'\n",
       "12. 'Teen Book'\n",
       "13. 'Downloadable Video'\n",
       "14. 'Music CD'\n",
       "15. 'Adult Foreign Lang Book'\n",
       "16. 'Children\\'s Board Book'\n",
       "\n",
       "\n"
      ],
      "text/plain": [
       " [1] \"Downloadable Audiobook\"  \"Adult Non-Fiction Book\" \n",
       " [3] \"Ebook: Downloadable\"     \"Adult Fiction Book\"     \n",
       " [5] \"Adult Large Type\"        \"Audiobook\"              \n",
       " [7] \"On Order Book\"           \"DVD\"                    \n",
       " [9] \"Children's Picture Book\" \"Downloadable Music\"     \n",
       "[11] \"Children's Book\"         \"Teen Book\"              \n",
       "[13] \"Downloadable Video\"      \"Music CD\"               \n",
       "[15] \"Adult Foreign Lang Book\" \"Children's Board Book\"  "
      ]
     },
     "metadata": {},
     "output_type": "display_data"
    }
   ],
   "source": [
    "booksFound  %>% pull(mediaType)  %>% unique\n",
    "#booksFound  %>% filter(mediaType %in% c(\"Music CD\",\"Adult Foreign Lang Book\",\"Children\\'s Board Book\")) #okay I'm curious"
   ]
  },
  {
   "cell_type": "code",
   "execution_count": 28,
   "metadata": {},
   "outputs": [
    {
     "data": {
      "text/html": [
       "<table>\n",
       "<caption>A data.frame: 10 × 8</caption>\n",
       "<thead>\n",
       "\t<tr><th scope=col>title</th><th scope=col>isbn13</th><th scope=col>avgrating</th><th scope=col>numratings</th><th scope=col>author_clean</th><th scope=col>foundTitle</th><th scope=col>foundAuthor</th><th scope=col>mediaType</th></tr>\n",
       "\t<tr><th scope=col>&lt;chr&gt;</th><th scope=col>&lt;dbl&gt;</th><th scope=col>&lt;dbl&gt;</th><th scope=col>&lt;int&gt;</th><th scope=col>&lt;chr&gt;</th><th scope=col>&lt;chr&gt;</th><th scope=col>&lt;chr&gt;</th><th scope=col>&lt;chr&gt;</th></tr>\n",
       "</thead>\n",
       "<tbody>\n",
       "\t<tr><td>Blessed Are the Misfits: Great News for Believers who are Introverts, Spiritual Strugglers, or Just Feel Like They're Missing Something</td><td>9.780718e+12</td><td>4.62</td><td>  881</td><td>Brant Hansen      </td><td>Blessed are the misfits                                                               </td><td>Brant Hansen                                             </td><td>Downloadable Audiobook</td></tr>\n",
       "\t<tr><td>The New Jim Crow: Mass Incarceration in the Age of Colorblindness                                                                      </td><td>9.781596e+12</td><td>4.51</td><td>42742</td><td>Michelle Alexander</td><td>The new Jim Crow : mass incarceration in the age of colorblindness                    </td><td>Michelle Alexander ; [with a new foreword by Cornel West]</td><td>Adult Non-Fiction Book</td></tr>\n",
       "\t<tr><td>The Food Lab: Better Home Cooking Through Science                                                                                      </td><td>9.780393e+12</td><td>4.50</td><td> 6938</td><td>J. Kenji López-Alt</td><td>The food lab : better home cooking through science                                    </td><td>J. Kenji López-Alt ; photographs by the author           </td><td>Adult Non-Fiction Book</td></tr>\n",
       "\t<tr><td>The Moth Presents All These Wonders: True Stories about Facing the Unknown                                                             </td><td>9.781102e+12</td><td>4.48</td><td> 3751</td><td>Catherine Burns   </td><td>The Moth presents All these wonders : true stories about facing the unknown           </td><td>edited by Catherine Burns                                </td><td>Adult Non-Fiction Book</td></tr>\n",
       "\t<tr><td>The Meaning of Marriage: Facing the Complexities of Commitment with the Wisdom of God                                                  </td><td>9.780526e+12</td><td>4.47</td><td>18456</td><td>Timothy J. Keller </td><td>The meaning of marriage : facing the complexities of commitment with the wisdom of God</td><td>Timothy Keller with Kathy Keller                         </td><td>Adult Non-Fiction Book</td></tr>\n",
       "\t<tr><td>Unoffendable: How Just One Change Can Make All of Life Better                                                                          </td><td>9.780529e+12</td><td>4.47</td><td> 2237</td><td>Brant Hansen      </td><td>Unoffendable : how just one change can make all of life better                        </td><td>Brant Hansen                                             </td><td>Downloadable Audiobook</td></tr>\n",
       "\t<tr><td>Bad Blood: Secrets and Lies in a Silicon Valley Startup                                                                                </td><td>9.781525e+12</td><td>4.46</td><td>95603</td><td>John Carreyrou    </td><td>Bad blood                                                                             </td><td>John Sandford                                            </td><td>Adult Fiction Book    </td></tr>\n",
       "\t<tr><td>Bad Blood: Secrets and Lies in a Silicon Valley Startup                                                                                </td><td>9.781525e+12</td><td>4.46</td><td>95603</td><td>John Carreyrou    </td><td>Bad blood : secrets and lies in a Silicon Valley startup                              </td><td>John Carreyrou                                           </td><td>Adult Non-Fiction Book</td></tr>\n",
       "\t<tr><td>Bad Blood: Secrets and Lies in a Silicon Valley Startup                                                                                </td><td>9.781525e+12</td><td>4.46</td><td>95603</td><td>John Carreyrou    </td><td>Bad blood : secrets and lies in a Silicon Valley startup                              </td><td>John Carreyrou                                           </td><td>Audiobook             </td></tr>\n",
       "\t<tr><td>Bad Blood: Secrets and Lies in a Silicon Valley Startup                                                                                </td><td>9.781525e+12</td><td>4.46</td><td>95603</td><td>John Carreyrou    </td><td>Bad blood : a Lucy Black thriller                                                     </td><td>Brian McGilloway                                         </td><td>Adult Fiction Book    </td></tr>\n",
       "</tbody>\n",
       "</table>\n"
      ],
      "text/latex": [
       "A data.frame: 10 × 8\n",
       "\\begin{tabular}{r|llllllll}\n",
       " title & isbn13 & avgrating & numratings & author\\_clean & foundTitle & foundAuthor & mediaType\\\\\n",
       " <chr> & <dbl> & <dbl> & <int> & <chr> & <chr> & <chr> & <chr>\\\\\n",
       "\\hline\n",
       "\t Blessed Are the Misfits: Great News for Believers who are Introverts, Spiritual Strugglers, or Just Feel Like They're Missing Something & 9.780718e+12 & 4.62 &   881 & Brant Hansen       & Blessed are the misfits                                                                & Brant Hansen                                              & Downloadable Audiobook\\\\\n",
       "\t The New Jim Crow: Mass Incarceration in the Age of Colorblindness                                                                       & 9.781596e+12 & 4.51 & 42742 & Michelle Alexander & The new Jim Crow : mass incarceration in the age of colorblindness                     & Michelle Alexander ; {[}with a new foreword by Cornel West{]} & Adult Non-Fiction Book\\\\\n",
       "\t The Food Lab: Better Home Cooking Through Science                                                                                       & 9.780393e+12 & 4.50 &  6938 & J. Kenji López-Alt & The food lab : better home cooking through science                                     & J. Kenji López-Alt ; photographs by the author            & Adult Non-Fiction Book\\\\\n",
       "\t The Moth Presents All These Wonders: True Stories about Facing the Unknown                                                              & 9.781102e+12 & 4.48 &  3751 & Catherine Burns    & The Moth presents All these wonders : true stories about facing the unknown            & edited by Catherine Burns                                 & Adult Non-Fiction Book\\\\\n",
       "\t The Meaning of Marriage: Facing the Complexities of Commitment with the Wisdom of God                                                   & 9.780526e+12 & 4.47 & 18456 & Timothy J. Keller  & The meaning of marriage : facing the complexities of commitment with the wisdom of God & Timothy Keller with Kathy Keller                          & Adult Non-Fiction Book\\\\\n",
       "\t Unoffendable: How Just One Change Can Make All of Life Better                                                                           & 9.780529e+12 & 4.47 &  2237 & Brant Hansen       & Unoffendable : how just one change can make all of life better                         & Brant Hansen                                              & Downloadable Audiobook\\\\\n",
       "\t Bad Blood: Secrets and Lies in a Silicon Valley Startup                                                                                 & 9.781525e+12 & 4.46 & 95603 & John Carreyrou     & Bad blood                                                                              & John Sandford                                             & Adult Fiction Book    \\\\\n",
       "\t Bad Blood: Secrets and Lies in a Silicon Valley Startup                                                                                 & 9.781525e+12 & 4.46 & 95603 & John Carreyrou     & Bad blood : secrets and lies in a Silicon Valley startup                               & John Carreyrou                                            & Adult Non-Fiction Book\\\\\n",
       "\t Bad Blood: Secrets and Lies in a Silicon Valley Startup                                                                                 & 9.781525e+12 & 4.46 & 95603 & John Carreyrou     & Bad blood : secrets and lies in a Silicon Valley startup                               & John Carreyrou                                            & Audiobook             \\\\\n",
       "\t Bad Blood: Secrets and Lies in a Silicon Valley Startup                                                                                 & 9.781525e+12 & 4.46 & 95603 & John Carreyrou     & Bad blood : a Lucy Black thriller                                                      & Brian McGilloway                                          & Adult Fiction Book    \\\\\n",
       "\\end{tabular}\n"
      ],
      "text/markdown": [
       "\n",
       "A data.frame: 10 × 8\n",
       "\n",
       "| title &lt;chr&gt; | isbn13 &lt;dbl&gt; | avgrating &lt;dbl&gt; | numratings &lt;int&gt; | author_clean &lt;chr&gt; | foundTitle &lt;chr&gt; | foundAuthor &lt;chr&gt; | mediaType &lt;chr&gt; |\n",
       "|---|---|---|---|---|---|---|---|\n",
       "| Blessed Are the Misfits: Great News for Believers who are Introverts, Spiritual Strugglers, or Just Feel Like They're Missing Something | 9.780718e+12 | 4.62 |   881 | Brant Hansen       | Blessed are the misfits                                                                | Brant Hansen                                              | Downloadable Audiobook |\n",
       "| The New Jim Crow: Mass Incarceration in the Age of Colorblindness                                                                       | 9.781596e+12 | 4.51 | 42742 | Michelle Alexander | The new Jim Crow : mass incarceration in the age of colorblindness                     | Michelle Alexander ; [with a new foreword by Cornel West] | Adult Non-Fiction Book |\n",
       "| The Food Lab: Better Home Cooking Through Science                                                                                       | 9.780393e+12 | 4.50 |  6938 | J. Kenji López-Alt | The food lab : better home cooking through science                                     | J. Kenji López-Alt ; photographs by the author            | Adult Non-Fiction Book |\n",
       "| The Moth Presents All These Wonders: True Stories about Facing the Unknown                                                              | 9.781102e+12 | 4.48 |  3751 | Catherine Burns    | The Moth presents All these wonders : true stories about facing the unknown            | edited by Catherine Burns                                 | Adult Non-Fiction Book |\n",
       "| The Meaning of Marriage: Facing the Complexities of Commitment with the Wisdom of God                                                   | 9.780526e+12 | 4.47 | 18456 | Timothy J. Keller  | The meaning of marriage : facing the complexities of commitment with the wisdom of God | Timothy Keller with Kathy Keller                          | Adult Non-Fiction Book |\n",
       "| Unoffendable: How Just One Change Can Make All of Life Better                                                                           | 9.780529e+12 | 4.47 |  2237 | Brant Hansen       | Unoffendable : how just one change can make all of life better                         | Brant Hansen                                              | Downloadable Audiobook |\n",
       "| Bad Blood: Secrets and Lies in a Silicon Valley Startup                                                                                 | 9.781525e+12 | 4.46 | 95603 | John Carreyrou     | Bad blood                                                                              | John Sandford                                             | Adult Fiction Book     |\n",
       "| Bad Blood: Secrets and Lies in a Silicon Valley Startup                                                                                 | 9.781525e+12 | 4.46 | 95603 | John Carreyrou     | Bad blood : secrets and lies in a Silicon Valley startup                               | John Carreyrou                                            | Adult Non-Fiction Book |\n",
       "| Bad Blood: Secrets and Lies in a Silicon Valley Startup                                                                                 | 9.781525e+12 | 4.46 | 95603 | John Carreyrou     | Bad blood : secrets and lies in a Silicon Valley startup                               | John Carreyrou                                            | Audiobook              |\n",
       "| Bad Blood: Secrets and Lies in a Silicon Valley Startup                                                                                 | 9.781525e+12 | 4.46 | 95603 | John Carreyrou     | Bad blood : a Lucy Black thriller                                                      | Brian McGilloway                                          | Adult Fiction Book     |\n",
       "\n"
      ],
      "text/plain": [
       "   title                                                                                                                                  \n",
       "1  Blessed Are the Misfits: Great News for Believers who are Introverts, Spiritual Strugglers, or Just Feel Like They're Missing Something\n",
       "2  The New Jim Crow: Mass Incarceration in the Age of Colorblindness                                                                      \n",
       "3  The Food Lab: Better Home Cooking Through Science                                                                                      \n",
       "4  The Moth Presents All These Wonders: True Stories about Facing the Unknown                                                             \n",
       "5  The Meaning of Marriage: Facing the Complexities of Commitment with the Wisdom of God                                                  \n",
       "6  Unoffendable: How Just One Change Can Make All of Life Better                                                                          \n",
       "7  Bad Blood: Secrets and Lies in a Silicon Valley Startup                                                                                \n",
       "8  Bad Blood: Secrets and Lies in a Silicon Valley Startup                                                                                \n",
       "9  Bad Blood: Secrets and Lies in a Silicon Valley Startup                                                                                \n",
       "10 Bad Blood: Secrets and Lies in a Silicon Valley Startup                                                                                \n",
       "   isbn13       avgrating numratings author_clean      \n",
       "1  9.780718e+12 4.62        881      Brant Hansen      \n",
       "2  9.781596e+12 4.51      42742      Michelle Alexander\n",
       "3  9.780393e+12 4.50       6938      J. Kenji López-Alt\n",
       "4  9.781102e+12 4.48       3751      Catherine Burns   \n",
       "5  9.780526e+12 4.47      18456      Timothy J. Keller \n",
       "6  9.780529e+12 4.47       2237      Brant Hansen      \n",
       "7  9.781525e+12 4.46      95603      John Carreyrou    \n",
       "8  9.781525e+12 4.46      95603      John Carreyrou    \n",
       "9  9.781525e+12 4.46      95603      John Carreyrou    \n",
       "10 9.781525e+12 4.46      95603      John Carreyrou    \n",
       "   foundTitle                                                                            \n",
       "1  Blessed are the misfits                                                               \n",
       "2  The new Jim Crow : mass incarceration in the age of colorblindness                    \n",
       "3  The food lab : better home cooking through science                                    \n",
       "4  The Moth presents All these wonders : true stories about facing the unknown           \n",
       "5  The meaning of marriage : facing the complexities of commitment with the wisdom of God\n",
       "6  Unoffendable : how just one change can make all of life better                        \n",
       "7  Bad blood                                                                             \n",
       "8  Bad blood : secrets and lies in a Silicon Valley startup                              \n",
       "9  Bad blood : secrets and lies in a Silicon Valley startup                              \n",
       "10 Bad blood : a Lucy Black thriller                                                     \n",
       "   foundAuthor                                              \n",
       "1  Brant Hansen                                             \n",
       "2  Michelle Alexander ; [with a new foreword by Cornel West]\n",
       "3  J. Kenji López-Alt ; photographs by the author           \n",
       "4  edited by Catherine Burns                                \n",
       "5  Timothy Keller with Kathy Keller                         \n",
       "6  Brant Hansen                                             \n",
       "7  John Sandford                                            \n",
       "8  John Carreyrou                                           \n",
       "9  John Carreyrou                                           \n",
       "10 Brian McGilloway                                         \n",
       "   mediaType             \n",
       "1  Downloadable Audiobook\n",
       "2  Adult Non-Fiction Book\n",
       "3  Adult Non-Fiction Book\n",
       "4  Adult Non-Fiction Book\n",
       "5  Adult Non-Fiction Book\n",
       "6  Downloadable Audiobook\n",
       "7  Adult Fiction Book    \n",
       "8  Adult Non-Fiction Book\n",
       "9  Audiobook             \n",
       "10 Adult Fiction Book    "
      ]
     },
     "metadata": {},
     "output_type": "display_data"
    }
   ],
   "source": [
    "booksFound  %>% filter(!(mediaType %in% c('DVD', 'Downloadable Music', 'Music CD', 'Downloadable Video', 'Adult Large Type', 'Ebook: Downloadable')) )  %>% \n",
    "head(10)"
   ]
  },
  {
   "cell_type": "code",
   "execution_count": 29,
   "metadata": {},
   "outputs": [
    {
     "data": {
      "text/html": [
       "<table>\n",
       "<caption>A data.frame: 10 × 5</caption>\n",
       "<thead>\n",
       "\t<tr><th scope=col>title</th><th scope=col>isbn13</th><th scope=col>numratings</th><th scope=col>avgrating</th><th scope=col>author_clean</th></tr>\n",
       "\t<tr><th scope=col>&lt;chr&gt;</th><th scope=col>&lt;dbl&gt;</th><th scope=col>&lt;int&gt;</th><th scope=col>&lt;dbl&gt;</th><th scope=col>&lt;chr&gt;</th></tr>\n",
       "</thead>\n",
       "<tbody>\n",
       "\t<tr><td>Statistical Rethinking: A Bayesian Course with Examples in R and Stan                       </td><td>9.781482e+12</td><td>  148</td><td>4.71</td><td>Richard McElreath</td></tr>\n",
       "\t<tr><td>Advanced R                                                                                  </td><td>9.781467e+12</td><td>  186</td><td>4.62</td><td>Hadley Wickham   </td></tr>\n",
       "\t<tr><td>An Introduction to Statistical Learning: With Applications in R                             </td><td>9.781461e+12</td><td> 1082</td><td>4.61</td><td>Gareth James     </td></tr>\n",
       "\t<tr><td>Mrityunjaya, The Death Conqueror: The Story Of Karna                                        </td><td>9.788172e+12</td><td> 7641</td><td>4.50</td><td>Shivaji Sawant   </td></tr>\n",
       "\t<tr><td><span style=white-space:pre-wrap>The Hero's Journey: Joseph Campbell on His Life &amp; Work                                      </span></td><td>9.781577e+12</td><td> 1365</td><td>4.42</td><td><span style=white-space:pre-wrap>Joseph Campbell  </span></td></tr>\n",
       "\t<tr><td>Storyworthy: Engage, Teach, Persuade, and Change Your Life through the Power of Storytelling</td><td>9.781609e+12</td><td>  244</td><td>4.40</td><td>Matthew Dicks    </td></tr>\n",
       "\t<tr><td>Harry Potter and the Methods of Rationality                                                 </td><td>          NA</td><td>11838</td><td>4.39</td><td>Eliezer Yudkowsky</td></tr>\n",
       "\t<tr><td>Machine Learning: A Probabilistic Perspective                                               </td><td>9.780262e+12</td><td>  375</td><td>4.38</td><td>Kevin P. Murphy  </td></tr>\n",
       "\t<tr><td>Information Graphics                                                                        </td><td>9.783837e+12</td><td>  276</td><td>4.38</td><td>Sandra Rendgen   </td></tr>\n",
       "\t<tr><td>The Elements of Statistical Learning: Data Mining, Inference, and Prediction                </td><td>9.780388e+12</td><td> 1246</td><td>4.37</td><td>Trevor Hastie    </td></tr>\n",
       "</tbody>\n",
       "</table>\n"
      ],
      "text/latex": [
       "A data.frame: 10 × 5\n",
       "\\begin{tabular}{r|lllll}\n",
       " title & isbn13 & numratings & avgrating & author\\_clean\\\\\n",
       " <chr> & <dbl> & <int> & <dbl> & <chr>\\\\\n",
       "\\hline\n",
       "\t Statistical Rethinking: A Bayesian Course with Examples in R and Stan                        & 9.781482e+12 &   148 & 4.71 & Richard McElreath\\\\\n",
       "\t Advanced R                                                                                   & 9.781467e+12 &   186 & 4.62 & Hadley Wickham   \\\\\n",
       "\t An Introduction to Statistical Learning: With Applications in R                              & 9.781461e+12 &  1082 & 4.61 & Gareth James     \\\\\n",
       "\t Mrityunjaya, The Death Conqueror: The Story Of Karna                                         & 9.788172e+12 &  7641 & 4.50 & Shivaji Sawant   \\\\\n",
       "\t The Hero's Journey: Joseph Campbell on His Life \\& Work                                       & 9.781577e+12 &  1365 & 4.42 & Joseph Campbell  \\\\\n",
       "\t Storyworthy: Engage, Teach, Persuade, and Change Your Life through the Power of Storytelling & 9.781609e+12 &   244 & 4.40 & Matthew Dicks    \\\\\n",
       "\t Harry Potter and the Methods of Rationality                                                  &           NA & 11838 & 4.39 & Eliezer Yudkowsky\\\\\n",
       "\t Machine Learning: A Probabilistic Perspective                                                & 9.780262e+12 &   375 & 4.38 & Kevin P. Murphy  \\\\\n",
       "\t Information Graphics                                                                         & 9.783837e+12 &   276 & 4.38 & Sandra Rendgen   \\\\\n",
       "\t The Elements of Statistical Learning: Data Mining, Inference, and Prediction                 & 9.780388e+12 &  1246 & 4.37 & Trevor Hastie    \\\\\n",
       "\\end{tabular}\n"
      ],
      "text/markdown": [
       "\n",
       "A data.frame: 10 × 5\n",
       "\n",
       "| title &lt;chr&gt; | isbn13 &lt;dbl&gt; | numratings &lt;int&gt; | avgrating &lt;dbl&gt; | author_clean &lt;chr&gt; |\n",
       "|---|---|---|---|---|\n",
       "| Statistical Rethinking: A Bayesian Course with Examples in R and Stan                        | 9.781482e+12 |   148 | 4.71 | Richard McElreath |\n",
       "| Advanced R                                                                                   | 9.781467e+12 |   186 | 4.62 | Hadley Wickham    |\n",
       "| An Introduction to Statistical Learning: With Applications in R                              | 9.781461e+12 |  1082 | 4.61 | Gareth James      |\n",
       "| Mrityunjaya, The Death Conqueror: The Story Of Karna                                         | 9.788172e+12 |  7641 | 4.50 | Shivaji Sawant    |\n",
       "| The Hero's Journey: Joseph Campbell on His Life &amp; Work                                       | 9.781577e+12 |  1365 | 4.42 | Joseph Campbell   |\n",
       "| Storyworthy: Engage, Teach, Persuade, and Change Your Life through the Power of Storytelling | 9.781609e+12 |   244 | 4.40 | Matthew Dicks     |\n",
       "| Harry Potter and the Methods of Rationality                                                  |           NA | 11838 | 4.39 | Eliezer Yudkowsky |\n",
       "| Machine Learning: A Probabilistic Perspective                                                | 9.780262e+12 |   375 | 4.38 | Kevin P. Murphy   |\n",
       "| Information Graphics                                                                         | 9.783837e+12 |   276 | 4.38 | Sandra Rendgen    |\n",
       "| The Elements of Statistical Learning: Data Mining, Inference, and Prediction                 | 9.780388e+12 |  1246 | 4.37 | Trevor Hastie     |\n",
       "\n"
      ],
      "text/plain": [
       "   title                                                                                       \n",
       "1  Statistical Rethinking: A Bayesian Course with Examples in R and Stan                       \n",
       "2  Advanced R                                                                                  \n",
       "3  An Introduction to Statistical Learning: With Applications in R                             \n",
       "4  Mrityunjaya, The Death Conqueror: The Story Of Karna                                        \n",
       "5  The Hero's Journey: Joseph Campbell on His Life & Work                                      \n",
       "6  Storyworthy: Engage, Teach, Persuade, and Change Your Life through the Power of Storytelling\n",
       "7  Harry Potter and the Methods of Rationality                                                 \n",
       "8  Machine Learning: A Probabilistic Perspective                                               \n",
       "9  Information Graphics                                                                        \n",
       "10 The Elements of Statistical Learning: Data Mining, Inference, and Prediction                \n",
       "   isbn13       numratings avgrating author_clean     \n",
       "1  9.781482e+12   148      4.71      Richard McElreath\n",
       "2  9.781467e+12   186      4.62      Hadley Wickham   \n",
       "3  9.781461e+12  1082      4.61      Gareth James     \n",
       "4  9.788172e+12  7641      4.50      Shivaji Sawant   \n",
       "5  9.781577e+12  1365      4.42      Joseph Campbell  \n",
       "6  9.781609e+12   244      4.40      Matthew Dicks    \n",
       "7            NA 11838      4.39      Eliezer Yudkowsky\n",
       "8  9.780262e+12   375      4.38      Kevin P. Murphy  \n",
       "9  9.783837e+12   276      4.38      Sandra Rendgen   \n",
       "10 9.780388e+12  1246      4.37      Trevor Hastie    "
      ]
     },
     "metadata": {},
     "output_type": "display_data"
    }
   ],
   "source": [
    "booksNotFound  %>% head(10)"
   ]
  },
  {
   "cell_type": "markdown",
   "metadata": {},
   "source": [
    "### Writing results\n",
    "<br />\n",
    "I want to make sure I didn't miss a book, shouldn't happen but doesn't hurt to check.<br>\n",
    "Also let's write results to a nice csv file."
   ]
  },
  {
   "cell_type": "code",
   "execution_count": 30,
   "metadata": {},
   "outputs": [
    {
     "data": {
      "text/html": [
       "'Found 170 but didn\\'t find 102 books.'"
      ],
      "text/latex": [
       "'Found 170 but didn\\textbackslash{}'t find 102 books.'"
      ],
      "text/markdown": [
       "'Found 170 but didn\\'t find 102 books.'"
      ],
      "text/plain": [
       "[1] \"Found 170 but didn't find 102 books.\""
      ]
     },
     "metadata": {},
     "output_type": "display_data"
    }
   ],
   "source": [
    "#sanity check\n",
    "numFound <- booksFound  %>% pull(title)  %>% unique  %>% length\n",
    "numNotFound <- booksNotFound  %>% pull(title)  %>% unique  %>% length\n",
    "sprintf(\"Found %d but didn't find %d books.\", numFound, numNotFound)\n",
    "if(numFound + numNotFound != nrow(booksToRead)){\n",
    "    print(\"Whoops missed some books, don't know which ones sorry\")\n",
    "}"
   ]
  },
  {
   "cell_type": "code",
   "execution_count": 31,
   "metadata": {},
   "outputs": [],
   "source": [
    "write.csv(booksFound,file.path(getwd(), 'booksFound.csv'), row.names=F)\n",
    "write.csv(booksNotFound,file.path(getwd(), 'booksNotFound.csv'), row.names=F)"
   ]
  },
  {
   "cell_type": "markdown",
   "metadata": {},
   "source": [
    "### How can I use or improve this?\n",
    "<br />\n",
    "<b> Improvements </b>\n",
    "<br />\n",
    "- the querying and result parsing could be made faster<br>\n",
    "- not modularized yet, and soem redundant code, could use cleaning<br>\n",
    "- extend to other libraries (Palo Alto, Cupertino pretty please?) <br>\n",
    "- automate putting books on hold <br>\n",
    "\n",
    "<br />\n",
    "<b> Using this </b>\n",
    "<br />\n",
    "Just edit the URLs, use your own login, change the tags in `html_node` to reflect your library's settings and you're good to go."
   ]
  }
 ],
 "metadata": {
  "kernelspec": {
   "display_name": "R",
   "language": "R",
   "name": "ir"
  },
  "language_info": {
   "codemirror_mode": "r",
   "file_extension": ".r",
   "mimetype": "text/x-r-source",
   "name": "R",
   "pygments_lexer": "r",
   "version": "3.5.1"
  }
 },
 "nbformat": 4,
 "nbformat_minor": 2
}
